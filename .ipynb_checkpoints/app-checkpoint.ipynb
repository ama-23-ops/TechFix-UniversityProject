{
 "cells": [
  {
   "cell_type": "code",
   "execution_count": null,
   "id": "2d4a8b9e-84b2-4384-bc0d-d44f16e581cf",
   "metadata": {},
   "outputs": [],
   "source": [
    "# app.py\n",
    "from flask import Flask, render_template\n",
    "from models import db\n",
    "from blueprints.product_bp import product_bp\n",
    "from blueprints.supplier_bp import supplier_bp\n",
    "from blueprints.order_bp import order_bp\n",
    "from blueprints.inventory_bp import inventory_bp\n",
    "from blueprints.quotation_bp import quotation_bp  # Add this line\n",
    "\n",
    "app = Flask(__name__)\n",
    "app.config['SQLALCHEMY_DATABASE_URI'] = 'mysql+pymysql://root@localhost/techfix_db'\n",
    "app.config['SQLALCHEMY_TRACK_MODIFICATIONS'] = False\n",
    "\n",
    "# Initialize SQLAlchemy\n",
    "db.init_app(app)\n",
    "\n",
    "# Register Blueprints\n",
    "app.register_blueprint(product_bp)\n",
    "app.register_blueprint(supplier_bp)\n",
    "app.register_blueprint(order_bp)\n",
    "app.register_blueprint(inventory_bp)\n",
    "app.register_blueprint(quotation_bp)  # Add this line\n",
    "\n",
    "# Serve HTML Pages\n",
    "@app.route('/')\n",
    "def home():\n",
    "    return render_template('index.html')\n",
    "\n",
    "@app.route('/products')\n",
    "def products():\n",
    "    return render_template('products.html')\n",
    "\n",
    "@app.route('/suppliers')\n",
    "def suppliers():\n",
    "    return render_template('suppliers.html')\n",
    "\n",
    "@app.route('/orders')\n",
    "def orders():\n",
    "    return render_template('orders.html')\n",
    "\n",
    "@app.route('/inventory')\n",
    "def inventory():\n",
    "    return render_template('inventory.html')\n",
    "\n",
    "@app.route('/quotations')\n",
    "def quotations():\n",
    "    return render_template('quotations.html')\n",
    "\n",
    "# Create tables in the database\n",
    "with app.app_context():\n",
    "    db.create_all()\n",
    "\n",
    "if __name__ == '__main__':\n",
    "    app.run(debug=True)"
   ]
  }
 ],
 "metadata": {
  "kernelspec": {
   "display_name": "Python [conda env:base] *",
   "language": "python",
   "name": "conda-base-py"
  },
  "language_info": {
   "codemirror_mode": {
    "name": "ipython",
    "version": 3
   },
   "file_extension": ".py",
   "mimetype": "text/x-python",
   "name": "python",
   "nbconvert_exporter": "python",
   "pygments_lexer": "ipython3",
   "version": "3.12.7"
  }
 },
 "nbformat": 4,
 "nbformat_minor": 5
}
