{
 "cells": [
  {
   "cell_type": "code",
   "execution_count": null,
   "id": "7bfdfb59-6854-401f-b764-c8c511a5da40",
   "metadata": {},
   "outputs": [],
   "source": [
    "# blueprints/inventory_bp.py\n",
    "from flask import Blueprint, jsonify, request\n",
    "from ..services.inventory_service import InventoryService\n",
    "\n",
    "inventory_bp = Blueprint('inventory', __name__)\n",
    "\n",
    "@inventory_bp.route('/api/inventory', methods=['POST'])\n",
    "def add_inventory():\n",
    "    data = request.get_json()\n",
    "    inventory = InventoryService.create_inventory(data)\n",
    "    return jsonify({\"inventory\": inventory.to_dict()}), 201\n",
    "\n",
    "@inventory_bp.route('/api/inventory', methods=['GET'])\n",
    "def get_inventory():\n",
    "    inventory_items = Inventory.query.all()\n",
    "    return jsonify({\"inventory\": [item.to_dict() for item in inventory_items]})\n",
    "\n",
    "@inventory_bp.route('/api/inventory/<int:inventory_id>', methods=['GET'])\n",
    "def get_inventory_item(inventory_id):\n",
    "    inventory = InventoryService.get_inventory(inventory_id)\n",
    "    if inventory is None:\n",
    "        return jsonify({\"error\": \"Inventory item not found\"}), 404\n",
    "    return jsonify({\"inventory\": inventory.to_dict()})\n",
    "\n",
    "@inventory_bp.route('/api/inventory/<int:inventory_id>', methods=['PUT'])\n",
    "def update_inventory_item(inventory_id):\n",
    "    data = request.get_json()\n",
    "    inventory = InventoryService.update_inventory(inventory_id, data)\n",
    "    if inventory is None:\n",
    "        return jsonify({\"error\": \"Inventory item not found\"}), 404\n",
    "    return jsonify({\"inventory\": inventory.to_dict()})\n",
    "\n",
    "@inventory_bp.route('/api/inventory/<int:inventory_id>', methods=['DELETE'])\n",
    "def delete_inventory_item(inventory_id):\n",
    "    inventory = InventoryService.delete_inventory(inventory_id)\n",
    "    if inventory is None:\n",
    "        return jsonify({\"error\": \"Inventory item not found\"}), 404\n",
    "    return jsonify({\"message\": \"Inventory item deleted successfully\"})"
   ]
  }
 ],
 "metadata": {
  "kernelspec": {
   "display_name": "Python [conda env:base] *",
   "language": "python",
   "name": "conda-base-py"
  },
  "language_info": {
   "codemirror_mode": {
    "name": "ipython",
    "version": 3
   },
   "file_extension": ".py",
   "mimetype": "text/x-python",
   "name": "python",
   "nbconvert_exporter": "python",
   "pygments_lexer": "ipython3",
   "version": "3.12.7"
  }
 },
 "nbformat": 4,
 "nbformat_minor": 5
}
