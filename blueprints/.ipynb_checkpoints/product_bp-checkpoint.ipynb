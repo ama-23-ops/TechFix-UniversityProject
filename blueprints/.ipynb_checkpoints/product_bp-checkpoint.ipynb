{
 "cells": [
  {
   "cell_type": "code",
   "execution_count": null,
   "id": "50593908-909e-4ec4-be85-32a901f2721c",
   "metadata": {},
   "outputs": [],
   "source": [
    "# blueprints/product_bp.py\n",
    "from flask import Blueprint, jsonify, request\n",
    "from ..services.product_service import ProductService\n",
    "\n",
    "product_bp = Blueprint('product', __name__)\n",
    "\n",
    "@product_bp.route('/api/products', methods=['POST'])\n",
    "def add_product():\n",
    "    data = request.get_json()\n",
    "    product = ProductService.create_product(data)\n",
    "    return jsonify({\"product\": product.to_dict()}), 201\n",
    "\n",
    "@product_bp.route('/api/products', methods=['GET'])\n",
    "def get_products():\n",
    "    products = Product.query.all()\n",
    "    return jsonify({\"products\": [product.to_dict() for product in products]})\n",
    "\n",
    "@product_bp.route('/api/products/<int:product_id>', methods=['GET'])\n",
    "def get_product(product_id):\n",
    "    product = ProductService.get_product(product_id)\n",
    "    if product is None:\n",
    "        return jsonify({\"error\": \"Product not found\"}), 404\n",
    "    return jsonify({\"product\": product.to_dict()})\n",
    "\n",
    "@product_bp.route('/api/products/<int:product_id>', methods=['PUT'])\n",
    "def update_product(product_id):\n",
    "    data = request.get_json()\n",
    "    product = ProductService.update_product(product_id, data)\n",
    "    if product is None:\n",
    "        return jsonify({\"error\": \"Product not found\"}), 404\n",
    "    return jsonify({\"product\": product.to_dict()})\n",
    "\n",
    "@product_bp.route('/api/products/<int:product_id>', methods=['DELETE'])\n",
    "def delete_product(product_id):\n",
    "    product = ProductService.delete_product(product_id)\n",
    "    if product is None:\n",
    "        return jsonify({\"error\": \"Product not found\"}), 404\n",
    "    return jsonify({\"message\": \"Product deleted successfully\"})"
   ]
  }
 ],
 "metadata": {
  "kernelspec": {
   "display_name": "Python [conda env:base] *",
   "language": "python",
   "name": "conda-base-py"
  },
  "language_info": {
   "codemirror_mode": {
    "name": "ipython",
    "version": 3
   },
   "file_extension": ".py",
   "mimetype": "text/x-python",
   "name": "python",
   "nbconvert_exporter": "python",
   "pygments_lexer": "ipython3",
   "version": "3.12.7"
  }
 },
 "nbformat": 4,
 "nbformat_minor": 5
}
