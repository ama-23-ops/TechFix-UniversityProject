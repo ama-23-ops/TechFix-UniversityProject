{
 "cells": [
  {
   "cell_type": "code",
   "execution_count": null,
   "id": "40663405-11b1-4420-8a61-f6fca29f633a",
   "metadata": {},
   "outputs": [],
   "source": [
    "# services/product_service.py\n",
    "from ..models import Product, db\n",
    "\n",
    "class ProductService:\n",
    "    @staticmethod\n",
    "    def create_product(data):\n",
    "        new_product = Product(\n",
    "            name=data['name'],\n",
    "            price=data['price'],\n",
    "            category=data.get('category', 'General')\n",
    "        )\n",
    "        db.session.add(new_product)\n",
    "        db.session.commit()\n",
    "        return new_product\n",
    "\n",
    "    @staticmethod\n",
    "    def get_product(product_id):\n",
    "        return Product.query.get(product_id)\n",
    "\n",
    "    @staticmethod\n",
    "    def update_product(product_id, data):\n",
    "        product = Product.query.get(product_id)\n",
    "        if product:\n",
    "            product.name = data.get('name', product.name)\n",
    "            product.price = data.get('price', product.price)\n",
    "            product.category = data.get('category', product.category)\n",
    "            db.session.commit()\n",
    "        return product\n",
    "\n",
    "    @staticmethod\n",
    "    def delete_product(product_id):\n",
    "        product = Product.query.get(product_id)\n",
    "        if product:\n",
    "            db.session.delete(product)\n",
    "            db.session.commit()\n",
    "        return product"
   ]
  }
 ],
 "metadata": {
  "kernelspec": {
   "display_name": "Python [conda env:base] *",
   "language": "python",
   "name": "conda-base-py"
  },
  "language_info": {
   "codemirror_mode": {
    "name": "ipython",
    "version": 3
   },
   "file_extension": ".py",
   "mimetype": "text/x-python",
   "name": "python",
   "nbconvert_exporter": "python",
   "pygments_lexer": "ipython3",
   "version": "3.12.7"
  }
 },
 "nbformat": 4,
 "nbformat_minor": 5
}
