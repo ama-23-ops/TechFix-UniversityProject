{
 "cells": [
  {
   "cell_type": "code",
   "execution_count": null,
   "id": "a46516dd-e695-4c1e-91fc-3a3b64eff190",
   "metadata": {},
   "outputs": [],
   "source": [
    "# services/order_service.py\n",
    "from ..models import Order, db\n",
    "\n",
    "class OrderService:\n",
    "    @staticmethod\n",
    "    def create_order(data):\n",
    "        new_order = Order(\n",
    "            supplier_id=data['supplier_id'],\n",
    "            product_id=data['product_id'],\n",
    "            quantity=data['quantity'],\n",
    "            total_price=data['total_price'],\n",
    "            order_status=data.get('order_status', 'Pending')\n",
    "        )\n",
    "        db.session.add(new_order)\n",
    "        db.session.commit()\n",
    "        return new_order\n",
    "\n",
    "    @staticmethod\n",
    "    def get_order(order_id):\n",
    "        return Order.query.get(order_id)\n",
    "\n",
    "    @staticmethod\n",
    "    def get_all_orders():\n",
    "        return Order.query.all()\n",
    "\n",
    "    @staticmethod\n",
    "    def update_order(order_id, data):\n",
    "        order = Order.query.get(order_id)\n",
    "        if order:\n",
    "            order.order_status = data.get('order_status', order.order_status)\n",
    "            order.total_price = data.get('total_price', order.total_price)\n",
    "            db.session.commit()\n",
    "        return order\n",
    "\n",
    "    @staticmethod\n",
    "    def delete_order(order_id):\n",
    "        order = Order.query.get(order_id)\n",
    "        if order:\n",
    "            db.session.delete(order)\n",
    "            db.session.commit()\n",
    "        return order"
   ]
  }
 ],
 "metadata": {
  "kernelspec": {
   "display_name": "Python [conda env:base] *",
   "language": "python",
   "name": "conda-base-py"
  },
  "language_info": {
   "codemirror_mode": {
    "name": "ipython",
    "version": 3
   },
   "file_extension": ".py",
   "mimetype": "text/x-python",
   "name": "python",
   "nbconvert_exporter": "python",
   "pygments_lexer": "ipython3",
   "version": "3.12.7"
  }
 },
 "nbformat": 4,
 "nbformat_minor": 5
}
