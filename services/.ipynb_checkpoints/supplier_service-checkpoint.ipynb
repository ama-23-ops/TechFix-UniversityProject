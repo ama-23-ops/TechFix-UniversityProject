{
 "cells": [
  {
   "cell_type": "code",
   "execution_count": null,
   "id": "f212e675-5e5c-4987-9bec-8b90cef08f56",
   "metadata": {},
   "outputs": [],
   "source": [
    "# services/supplier_service.py\n",
    "from ..models import Supplier, db\n",
    "\n",
    "class SupplierService:\n",
    "    @staticmethod\n",
    "    def create_supplier(data):\n",
    "        new_supplier = Supplier(\n",
    "            name=data['name'],\n",
    "            contact_email=data['contact_email'],\n",
    "            phone_number=data.get('phone_number'),\n",
    "            address=data.get('address'),\n",
    "            contact_person=data.get('contact_person')\n",
    "        )\n",
    "        db.session.add(new_supplier)\n",
    "        db.session.commit()\n",
    "        return new_supplier\n",
    "\n",
    "    @staticmethod\n",
    "    def get_supplier(supplier_id):\n",
    "        return Supplier.query.get(supplier_id)\n",
    "\n",
    "    @staticmethod\n",
    "    def update_supplier(supplier_id, data):\n",
    "        supplier = Supplier.query.get(supplier_id)\n",
    "        if supplier:\n",
    "            supplier.name = data.get('name', supplier.name)\n",
    "            supplier.contact_email = data.get('contact_email', supplier.contact_email)\n",
    "            supplier.phone_number = data.get('phone_number', supplier.phone_number)\n",
    "            supplier.address = data.get('address', supplier.address)\n",
    "            supplier.contact_person = data.get('contact_person', supplier.contact_person)\n",
    "            db.session.commit()\n",
    "        return supplier\n",
    "\n",
    "    @staticmethod\n",
    "    def delete_supplier(supplier_id):\n",
    "        supplier = Supplier.query.get(supplier_id)\n",
    "        if supplier:\n",
    "            db.session.delete(supplier)\n",
    "            db.session.commit()\n",
    "        return supplier"
   ]
  }
 ],
 "metadata": {
  "kernelspec": {
   "display_name": "Python [conda env:base] *",
   "language": "python",
   "name": "conda-base-py"
  },
  "language_info": {
   "name": ""
  }
 },
 "nbformat": 4,
 "nbformat_minor": 5
}
