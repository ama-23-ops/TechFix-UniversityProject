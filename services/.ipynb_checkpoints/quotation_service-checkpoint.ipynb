{
 "cells": [
  {
   "cell_type": "code",
   "execution_count": null,
   "id": "2151361f-a9e0-4e7b-aad6-112d053d60f6",
   "metadata": {},
   "outputs": [],
   "source": [
    "# services/quotation_service.py\n",
    "from ..services.supplier_integration_service import SupplierIntegrationService\n",
    "\n",
    "class QuotationService:\n",
    "    @staticmethod\n",
    "    def get_quotes(product_id):\n",
    "        \"\"\"\n",
    "        Fetch quotes from all suppliers and return the best offer.\n",
    "        \"\"\"\n",
    "        supplier_a_price = SupplierIntegrationService.fetch_price(\"SupplierA\", product_id)\n",
    "        supplier_b_price = SupplierIntegrationService.fetch_price(\"SupplierB\", product_id)\n",
    "\n",
    "        return {\n",
    "            \"SupplierA\": supplier_a_price,\n",
    "            \"SupplierB\": supplier_b_price,\n",
    "            \"BestOffer\": min(supplier_a_price, supplier_b_price)\n",
    "        }"
   ]
  }
 ],
 "metadata": {
  "kernelspec": {
   "display_name": "Python [conda env:base] *",
   "language": "python",
   "name": "conda-base-py"
  },
  "language_info": {
   "codemirror_mode": {
    "name": "ipython",
    "version": 3
   },
   "file_extension": ".py",
   "mimetype": "text/x-python",
   "name": "python",
   "nbconvert_exporter": "python",
   "pygments_lexer": "ipython3",
   "version": "3.12.7"
  }
 },
 "nbformat": 4,
 "nbformat_minor": 5
}
