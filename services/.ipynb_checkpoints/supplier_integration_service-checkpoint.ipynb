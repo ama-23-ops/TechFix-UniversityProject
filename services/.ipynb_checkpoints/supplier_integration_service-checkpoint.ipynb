{
 "cells": [
  {
   "cell_type": "code",
   "execution_count": null,
   "id": "74803234-8cb7-4879-b2a0-7dea3a5c58ed",
   "metadata": {},
   "outputs": [],
   "source": [
    "# services/supplier_integration_service.py\n",
    "class SupplierIntegrationService:\n",
    "    @staticmethod\n",
    "    def fetch_price(supplier_name, product_id):\n",
    "        \"\"\"\n",
    "        Mocked method to fetch prices from external suppliers.\n",
    "        \"\"\"\n",
    "        if supplier_name == \"SupplierA\":\n",
    "            return 100  # Mocked price from Supplier A\n",
    "        elif supplier_name == \"SupplierB\":\n",
    "            return 95   # Mocked price from Supplier B\n",
    "        else:\n",
    "            raise ValueError(f\"Unknown supplier: {supplier_name}\")"
   ]
  }
 ],
 "metadata": {
  "kernelspec": {
   "display_name": "Python [conda env:base] *",
   "language": "python",
   "name": "conda-base-py"
  },
  "language_info": {
   "codemirror_mode": {
    "name": "ipython",
    "version": 3
   },
   "file_extension": ".py",
   "mimetype": "text/x-python",
   "name": "python",
   "nbconvert_exporter": "python",
   "pygments_lexer": "ipython3",
   "version": "3.12.7"
  }
 },
 "nbformat": 4,
 "nbformat_minor": 5
}
