{
 "cells": [
  {
   "cell_type": "code",
   "execution_count": null,
   "id": "0d41b23b-2f1a-4782-bb6c-f9e1abeca255",
   "metadata": {},
   "outputs": [],
   "source": [
    "# client/techfix_client.py\n",
    "import requests\n",
    "\n",
    "class TechFixClient:\n",
    "    def __init__(self, base_url):\n",
    "        self.base_url = base_url\n",
    "\n",
    "    def get_products(self):\n",
    "        response = requests.get(f\"{self.base_url}/api/products\")\n",
    "        return response.json()\n",
    "\n",
    "    def create_product(self, name, price, category=\"General\"):\n",
    "        payload = {\"name\": name, \"price\": price, \"category\": category}\n",
    "        response = requests.post(f\"{self.base_url}/api/products\", json=payload)\n",
    "        return response.json()\n",
    "\n",
    "    def get_suppliers(self):\n",
    "        response = requests.get(f\"{self.base_url}/api/suppliers\")\n",
    "        return response.json()\n",
    "\n",
    "    def create_supplier(self, name, contact_email):\n",
    "        payload = {\"name\": name, \"contact_email\": contact_email}\n",
    "        response = requests.post(f\"{self.base_url}/api/suppliers\", json=payload)\n",
    "        return response.json()\n",
    "\n",
    "# Example Usage\n",
    "if __name__ == '__main__':\n",
    "    client = TechFixClient(\"http://127.0.0.1:5000\")\n",
    "    print(client.get_products())\n",
    "    print(client.create_supplier(\"Supplier A\", \"contact@suppA.com\"))"
   ]
  }
 ],
 "metadata": {
  "kernelspec": {
   "display_name": "Python [conda env:base] *",
   "language": "python",
   "name": "conda-base-py"
  },
  "language_info": {
   "codemirror_mode": {
    "name": "ipython",
    "version": 3
   },
   "file_extension": ".py",
   "mimetype": "text/x-python",
   "name": "python",
   "nbconvert_exporter": "python",
   "pygments_lexer": "ipython3",
   "version": "3.12.7"
  }
 },
 "nbformat": 4,
 "nbformat_minor": 5
}
